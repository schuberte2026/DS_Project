{
 "cells": [
  {
   "cell_type": "markdown",
   "id": "4d0d32a0-ea2f-406d-a235-62e490c1127f",
   "metadata": {},
   "source": [
    "# Data Cleaning for Our Dataset\n",
    "### Evan Schubert\n",
    "### CSC 2621-141\n",
    "### Created on: 04/10/2025"
   ]
  },
  {
   "cell_type": "markdown",
   "id": "99206ac5-d8d4-4f97-ad13-2299b3899233",
   "metadata": {},
   "source": [
    "**What Each Column Represents**<br>\n",
    "**Transaction_ID** - arbitrary unique ID given to each transaction<br>\n",
    "**User_ID** - The unique identifier for each user<br>\n",
    "**Transaction Amount** - amount of money transacted<br>\n",
    "**Transaction Type** - ATM withdrawal, Bill Payment, POS payment, bank transfer, online purchase<br>\n",
    "**Time of Transaction** - Military time for the time the transaction occured, 0 through 23<br>\n",
    "**Device Used** - Tablet, mobile, desktop, unknown device<br>\n",
    "**Location** - San Francisco, New York, Chicago, Boston, Houston, Miami, Los Angeles, Seattle<br>\n",
    "**Previous Fraudulent Transactions** - How many previous fraudelent transactions does this user have, 0 through 4<br>\n",
    "**Age** - How long the account has been active in possibly months, 0 through 119<br>\n",
    "**Number of Transactions last 24H**- The number of transactions in the last 24 hours for this user, 1 through 14<br>\n",
    "**Payment Method** - Debit card, credit card, UPI, net banking, invalid method<br>\n",
    "**Fraudulent** - boolean representing whether the transaction was fraudulent.<br>"
   ]
  },
  {
   "cell_type": "code",
   "id": "c264a213-ada5-46f6-91b1-faffff4a7170",
   "metadata": {},
   "source": [
    "import pandas as pd\n",
    "from scipy import stats\n",
    "import numpy as np\n",
    "from scipy.stats import stats, linregress, kruskal, chi2_contingency\n",
    "import seaborn as sns\n",
    "import matplotlib.pyplot as plt\n",
    "from sklearn.model_selection import train_test_split\n",
    "from sklearn.linear_model import LogisticRegression\n",
    "from sklearn.metrics import accuracy_score, recall_score\n",
    "from sklearn.tree import DecisionTreeClassifier\n",
    "from sklearn.ensemble import RandomForestClassifier\n",
    "\n",
    "fraud_df = pd.read_csv(\"Fraud Detection Dataset.csv\")"
   ],
   "outputs": [],
   "execution_count": null
  },
  {
   "cell_type": "code",
   "id": "550014acbe502534",
   "metadata": {},
   "source": [
    "## Calculate na percantages for each column\n",
    "nan_counts = 100 * fraud_df.isna().sum() / len(fraud_df)\n",
    "total_nan = fraud_df.isna().any(axis=1).sum()\n",
    "print(nan_counts)\n",
    "print(total_nan)\n",
    "print(100 * total_nan / len(fraud_df))"
   ],
   "outputs": [],
   "execution_count": null
  },
  {
   "cell_type": "code",
   "id": "06636244-75b9-4bf1-86f2-70b2738eb0a7",
   "metadata": {},
   "source": [
    "fraud_df.dropna(inplace = True, subset = ['Device_Used', 'Location', 'Payment_Method'])"
   ],
   "outputs": [],
   "execution_count": null
  },
  {
   "cell_type": "code",
   "id": "441615ee-b9f7-4cf3-a573-e577f1b3c162",
   "metadata": {},
   "source": [
    "fraud_df.info()"
   ],
   "outputs": [],
   "execution_count": null
  },
  {
   "cell_type": "code",
   "id": "00180808-5081-4b5e-b84f-f4b50525af46",
   "metadata": {},
   "source": [
    "fraud_df.head()"
   ],
   "outputs": [],
   "execution_count": null
  },
  {
   "cell_type": "code",
   "id": "7d1ad03f-f55f-4597-a90f-67c8805b1a98",
   "metadata": {},
   "source": [
    "print(fraud_df.columns)"
   ],
   "outputs": [],
   "execution_count": null
  },
  {
   "cell_type": "code",
   "id": "463f70cf-0b0f-449a-b821-05d8b8696d98",
   "metadata": {},
   "source": [
    "fraud_df = fraud_df.astype({ 'Transaction_Type': 'category', 'Device_Used': 'category', 'Location': 'category','Payment_Method': 'category'})"
   ],
   "outputs": [],
   "execution_count": null
  },
  {
   "cell_type": "markdown",
   "id": "0173e45f-9d30-4e60-84e7-fb8f79d89391",
   "metadata": {},
   "source": [
    "## Filling in missing values"
   ]
  },
  {
   "cell_type": "code",
   "id": "f187ee91-2739-410d-8174-bec7b7274192",
   "metadata": {},
   "source": [
    "fraud_df[\"Transaction_Amount_fill_mean\"] = fraud_df[\"Transaction_Amount\"]\n",
    "fraud_df[\"Transaction_Amount_fill_median\"] = fraud_df[\"Transaction_Amount\"]\n",
    "fraud_df[\"Transaction_Amount_fill_mode\"] = fraud_df[\"Transaction_Amount\"]\n",
    "\n",
    "values = {\"Transaction_Amount_fill_mean\": fraud_df[\"Transaction_Amount\"].mean(), \"Transaction_Amount_fill_median\": fraud_df[\"Transaction_Amount\"].median(), \n",
    "         \"Transaction_Amount_fill_mode\": stats.mode(fraud_df[\"Transaction_Amount\"], nan_policy=\"omit\").mode}\n",
    "fraud_df.fillna(value = values, inplace = True)"
   ],
   "outputs": [],
   "execution_count": null
  },
  {
   "cell_type": "code",
   "id": "a39a60b8-c54c-490c-a4ac-a5094727429d",
   "metadata": {},
   "source": [
    "fraud_df.head(10)"
   ],
   "outputs": [],
   "execution_count": null
  },
  {
   "cell_type": "markdown",
   "id": "8dff0bae-7ff5-48b2-a87b-99bbe2f48f1f",
   "metadata": {},
   "source": [
    "### Visualization"
   ]
  },
  {
   "cell_type": "code",
   "id": "0e287883-6c90-4cb9-b3c9-efca8c64bbb1",
   "metadata": {},
   "source": [
    "type_table = pd.pivot_table(fraud_df, index=\"Fraudulent\", values=\"Transaction_ID\", columns=\"Transaction_Type\", aggfunc=\"count\", observed=True)\n",
    "type_table[\"ATM Withdrawal\"] = type_table[\"ATM Withdrawal\"]/(type_table[\"ATM Withdrawal\"].sum())\n",
    "type_table[\"Bank Transfer\"] = type_table[\"Bank Transfer\"]/(type_table[\"Bank Transfer\"].sum())\n",
    "type_table[\"Bill Payment\"] = type_table[\"Bill Payment\"]/(type_table[\"Bill Payment\"].sum())\n",
    "type_table[\"Online Purchase\"] = type_table[\"Online Purchase\"]/(type_table[\"Online Purchase\"].sum())\n",
    "type_table[\"POS Payment\"] = type_table[\"POS Payment\"]/(type_table[\"POS Payment\"].sum())\n",
    "sns.heatmap(type_table, annot=True)"
   ],
   "outputs": [],
   "execution_count": null
  },
  {
   "cell_type": "code",
   "id": "b9e3dca9-3000-48c6-ae8e-383aadb78b85",
   "metadata": {},
   "source": [
    "device_table = pd.pivot_table(fraud_df, index=\"Fraudulent\", values=\"Transaction_ID\", columns=\"Device_Used\", aggfunc=\"count\", observed=True)\n",
    "for col in device_table.columns:\n",
    "    device_table[col] = device_table[col]/device_table[col].sum()\n",
    "sns.heatmap(device_table, annot=True)"
   ],
   "outputs": [],
   "execution_count": null
  },
  {
   "cell_type": "code",
   "id": "f91bc6d7-f9aa-4d0f-a333-f538f1ffe8e0",
   "metadata": {},
   "source": [
    "location_table = pd.pivot_table(fraud_df, index=\"Fraudulent\", values=\"Transaction_ID\", columns=\"Location\", aggfunc=\"count\", observed=True)\n",
    "for col in location_table.columns:\n",
    "    location_table[col] = location_table[col]/location_table[col].sum()\n",
    "sns.heatmap(location_table, annot=True)"
   ],
   "outputs": [],
   "execution_count": null
  },
  {
   "cell_type": "code",
   "id": "d2382b9d-592d-452d-baa1-c7645aef08f2",
   "metadata": {},
   "source": [
    "method_table = pd.pivot_table(fraud_df, index=\"Fraudulent\", values=\"Transaction_ID\", columns=\"Payment_Method\", aggfunc=\"count\", observed=False)\n",
    "#type_table[\"ATM Withdrawal\"] = type_table[\"ATM Withdrawal\"]/(type_table[\"ATM Withdrawal\"].sum())\n",
    "for col in method_table.columns:\n",
    "    method_table[col] = method_table[col]/method_table[col].sum()\n",
    "sns.heatmap(method_table, annot=True)"
   ],
   "outputs": [],
   "execution_count": null
  },
  {
   "cell_type": "code",
   "id": "5474b2e1-4396-48ec-8d65-75af2930bcbc",
   "metadata": {},
   "source": [
    "amount_plot = sns.violinplot(data=fraud_df, x=\"Fraudulent\", y=\"Transaction_Amount\",log_scale=True, cut=0)\n",
    "amount_plot.set_title(\"Fraudulent Vs Transaction Amount\")"
   ],
   "outputs": [],
   "execution_count": null
  },
  {
   "cell_type": "markdown",
   "id": "7fe535c9-24f4-4dae-a81c-51c0e59534f7",
   "metadata": {},
   "source": [
    "### Statistical Testing"
   ]
  },
  {
   "cell_type": "code",
   "id": "21eb700f-be68-43f9-abce-5cc2e78001f9",
   "metadata": {},
   "source": [
    "from pandas.core.dtypes.common import is_numeric_dtype\n",
    "\n",
    "#Kruskal\n",
    "#Transaction_Amount, Time_of_Transaction, Previous_Fraudulent_Transactions, Account_Age, Number_of_Transactions_Last_24H\n",
    "#Chai Square\n",
    "#Transaction_Type, Device_Used, Location, Payment_Method\n",
    "X = [\"Transaction_Amount\", \"Time_of_Transaction\", \"Previous_Fraudulent_Transactions\", \"Account_Age\", \"Number_of_Transactions_Last_24H\", \n",
    "    \"Transaction_Type\", \"Device_Used\", \"Location\", \"Payment_Method\"]\n",
    "var_name_above=[]\n",
    "test_statistic_above=[]\n",
    "p_values_above=[]\n",
    "for col in X:\n",
    "    if is_numeric_dtype(fraud_df[col]):\n",
    "        samples_by_group = []\n",
    "        for value in set(fraud_df[\"Fraudulent\"]):\n",
    "            mask_nulls = ~np.isnan(fraud_df[col])\n",
    "            mask = fraud_df[\"Fraudulent\"] == value\n",
    "            samples_by_group.append(fraud_df[col][mask_nulls][mask])\n",
    "        stat, p = kruskal(*samples_by_group)\n",
    "        var_name_above.append(col)\n",
    "        test_statistic_above.append(stat)\n",
    "        p_values_above.append(p)\n",
    "    else:\n",
    "        combination_counts = pd.crosstab(fraud_df[col], fraud_df[\"Fraudulent\"])\n",
    "        chi2, p, _, _ = chi2_contingency(combination_counts)\n",
    "        var_name_above.append(col)\n",
    "        test_statistic_above.append(chi2)\n",
    "        p_values_above.append(p)"
   ],
   "outputs": [],
   "execution_count": null
  },
  {
   "cell_type": "code",
   "id": "3c2bbf8ca2fcf360",
   "metadata": {},
   "source": "p_values_above",
   "outputs": [],
   "execution_count": null
  },
  {
   "cell_type": "markdown",
   "id": "f17c50ea4bbe084c",
   "metadata": {},
   "source": [
    "## Calculate na percantages for each column"
   ]
  },
  {
   "cell_type": "code",
   "id": "15bb7da340b84167",
   "metadata": {},
   "source": [
    "nan_counts = 100*fraud_df.isna().sum()/len(fraud_df)\n",
    "nan_counts"
   ],
   "outputs": [],
   "execution_count": null
  },
  {
   "cell_type": "markdown",
   "id": "f7f5d16cd6412f41",
   "metadata": {},
   "source": [
    "Total nan count"
   ]
  },
  {
   "cell_type": "code",
   "id": "38e62c5fd6458a35",
   "metadata": {},
   "source": [
    "total_nan = fraud_df.isna().any(axis=1).sum()\n",
    "print(total_nan)\n",
    "print(100*total_nan/len(fraud_df))"
   ],
   "outputs": [],
   "execution_count": null
  },
  {
   "cell_type": "markdown",
   "id": "defc6a4a88b4473b",
   "metadata": {},
   "source": [
    "## Bootstrap generator"
   ]
  },
  {
   "cell_type": "code",
   "id": "39a84b8671cb1832",
   "metadata": {},
   "source": [
    "import random\n",
    "rows = []\n",
    "rows.append(fraud_df[fraud_df[\"Fraudulent\"] == 0].sample(n=int(len(fraud_df)/2),replace=True))   \n",
    "rows.append(fraud_df[fraud_df[\"Fraudulent\"] == 1].sample(n=int(len(fraud_df)/2),replace=True))\n",
    "bootstrap_df = pd.concat(rows)\n",
    "bootstrap_df\n",
    "#todo ask if they should be balanced probabilistically like this or perfectly (exactly half and half)"
   ],
   "outputs": [],
   "execution_count": null
  },
  {
   "cell_type": "code",
   "id": "b30f72a4f2dcf4a0",
   "metadata": {},
   "source": "len(fraud_df)",
   "outputs": [],
   "execution_count": null
  },
  {
   "cell_type": "markdown",
   "id": "e1c7256601bbb0a6",
   "metadata": {},
   "source": []
  },
  {
   "cell_type": "markdown",
   "id": "867b9e0b-a5d2-4cf7-be99-0b6f86685034",
   "metadata": {},
   "source": [
    "## Encoding categorical values as numbers"
   ]
  },
  {
   "cell_type": "code",
   "id": "12ed6ba8-03c6-41c5-af19-50bd95106344",
   "metadata": {},
   "source": [
    "fraud_df.head()"
   ],
   "outputs": [],
   "execution_count": null
  },
  {
   "cell_type": "markdown",
   "id": "20926dff-a9d4-48e1-919a-b2ffce3d3191",
   "metadata": {},
   "source": [
    "Will dummy encode transaction_type, device_used, location, payment_method"
   ]
  },
  {
   "cell_type": "code",
   "id": "0348e95e-664d-4068-9690-44d90846891f",
   "metadata": {},
   "source": [
    "fraud_df_encoded = pd.get_dummies(fraud_df, dtype = int, columns=['Transaction_Type', 'Device_Used', 'Location', 'Payment_Method'])"
   ],
   "outputs": [],
   "execution_count": null
  },
  {
   "cell_type": "code",
   "id": "b1f19d82-77fe-483d-9cb6-4007882464d5",
   "metadata": {},
   "source": [
    "# DataFrame after performing dummy Encoding\n",
    "pd.set_option('display.max_columns', None)\n",
    "fraud_df_encoded.head()"
   ],
   "outputs": [],
   "execution_count": null
  },
  {
   "cell_type": "markdown",
   "id": "9df3aa80-9003-4b99-88ec-000e4ee0c715",
   "metadata": {},
   "source": [
    "## PCA"
   ]
  },
  {
   "cell_type": "markdown",
   "id": "2f2023bd-017f-432b-b7fa-6bac61234144",
   "metadata": {},
   "source": [
    "**This is the dataframe that contains the encoded values, with non-needed columns dropped, and rows with null values removed.**"
   ]
  },
  {
   "cell_type": "code",
   "id": "c2e387a2-0f07-4cb4-a056-ad5284d9f33f",
   "metadata": {},
   "source": [
    "# drop non-needed columns\n",
    "fraud_df_encoded.drop(inplace = True, axis=1, columns = ['Transaction_ID', 'User_ID'])"
   ],
   "outputs": [],
   "execution_count": null
  },
  {
   "cell_type": "code",
   "id": "46b15ad2-d131-4fbe-89d7-ac3128b3d411",
   "metadata": {},
   "source": [
    "# need to drop NaNs for PCA to work\n",
    "fraud_df_encoded.dropna(inplace = True, axis=0)"
   ],
   "outputs": [],
   "execution_count": null
  },
  {
   "cell_type": "markdown",
   "id": "d0f31681-9f5a-48c5-b054-348042f3f850",
   "metadata": {},
   "source": [
    "Trying PCA on all columns, didn't work well."
   ]
  },
  {
   "cell_type": "code",
   "id": "cafebafc-4bed-4855-810c-01af33eba405",
   "metadata": {},
   "source": [
    "from sklearn.decomposition import TruncatedSVD\n",
    "from sklearn.preprocessing import StandardScaler\n",
    "\n",
    "# scale the data (good practice so outliers don't impact as much)\n",
    "scaler = StandardScaler()\n",
    "data_scaled = scaler.fit_transform(fraud_df_encoded)\n",
    "svd = TruncatedSVD(n_components = 2)\n",
    "\n",
    "fraud_svd = svd.fit_transform(data_scaled)\n",
    "\n",
    "# plot the pca\n",
    "sns.scatterplot(y = fraud_svd[:,1], x = fraud_svd[:,0],  hue = fraud_df_encoded['Fraudulent']) # y is component 1, x is component 0 matrix[:,0]"
   ],
   "outputs": [],
   "execution_count": null
  },
  {
   "cell_type": "markdown",
   "id": "8387f7b8-27ae-419d-b218-673ba71ff94a",
   "metadata": {},
   "source": [
    "Trying PCA on all original numerical columns."
   ]
  },
  {
   "cell_type": "code",
   "id": "013f1dc8-2284-47a0-a284-7a38b8f46c8d",
   "metadata": {},
   "source": [
    "# NaNs should be dropped already if previous cell was ran\n",
    "\n",
    "# scale the data (good practice so outliers don't impact as much)\n",
    "scaler = StandardScaler()\n",
    "data_scaled2 = scaler.fit_transform(fraud_df_encoded[['Transaction_Amount', 'Time_of_Transaction', 'Previous_Fraudulent_Transactions', 'Account_Age', 'Number_of_Transactions_Last_24H']])\n",
    "svd2 = TruncatedSVD(n_components = 2)\n",
    "\n",
    "fraud_svd2 = svd2.fit_transform(data_scaled2)\n",
    "\n",
    "# plot the pca\n",
    "sns.scatterplot(y = fraud_svd2[:,1], x = fraud_svd2[:,0],  hue = fraud_df_encoded['Fraudulent']) # y is component 1, x is component 0 matrix[:,0]"
   ],
   "outputs": [],
   "execution_count": null
  },
  {
   "cell_type": "markdown",
   "id": "d1f6c67a-bc0c-44e4-842d-82f1389c8fff",
   "metadata": {},
   "source": [
    "### Data Modeling and prediction"
   ]
  },
  {
   "cell_type": "code",
   "id": "5a63534f-b9e6-4a79-840d-7b87d4584ff7",
   "metadata": {},
   "source": [
    "#train-test split\n",
    "train, test = train_test_split(fraud_df_encoded, test_size = 0.30, stratify = fraud_df_encoded[\"Fraudulent\"])\n",
    "y_train = train[\"Fraudulent\"]\n",
    "x_train = train\n",
    "del x_train[\"Fraudulent\"]\n",
    "y_test = test[\"Fraudulent\"]\n",
    "x_test = test\n",
    "del x_test[\"Fraudulent\"]"
   ],
   "outputs": [],
   "execution_count": null
  },
  {
   "cell_type": "code",
   "id": "1fe4993a-0a46-47b9-914a-3dc6927ac935",
   "metadata": {},
   "source": [
    "#Logistic Regressor\n",
    "lr_model = LogisticRegression().fit(x_train, y_train)\n",
    "y_pred = lr_model.predict(x_test)\n",
    "accuracy = accuracy_score(y_test, y_pred)\n",
    "#recall = recall_score(y_test, y_pred)\n",
    "print(\"Logistic Regressor\\n----------------------\\nAccuracy: \", accuracy)"
   ],
   "outputs": [],
   "execution_count": null
  },
  {
   "cell_type": "code",
   "id": "ae5b2f70-4ddb-4179-b9cb-f81593700967",
   "metadata": {},
   "source": [
    "#Decision tree\n",
    "dt_model = DecisionTreeClassifier(random_state=0).fit(x_train, y_train)\n",
    "y_pred = dt_model.predict(x_test)\n",
    "accuracy = accuracy_score(y_test, y_pred)\n",
    "print(\"Decision Tree\\n----------------------\\nAccuracy: \", accuracy)"
   ],
   "outputs": [],
   "execution_count": null
  },
  {
   "cell_type": "code",
   "id": "e77f00b4-50aa-45cd-a1bd-03c4a664f380",
   "metadata": {},
   "source": [
    "#random forest\n",
    "rf_model = RandomForestClassifier().fit(x_train, y_train)\n",
    "y_pred = rf_model.predict(x_test)\n",
    "accuracy = accuracy_score(y_test, y_pred)\n",
    "print(\"Random Forest\\n----------------------\\nAccuracy: \", accuracy)"
   ],
   "outputs": [],
   "execution_count": null
  },
  {
   "cell_type": "code",
   "id": "99918263-4f93-435d-b23c-f2b5c4f369ef",
   "metadata": {},
   "source": [],
   "outputs": [],
   "execution_count": null
  }
 ],
 "metadata": {
  "kernelspec": {
   "display_name": "Python 3 (ipykernel)",
   "language": "python",
   "name": "python3"
  },
  "language_info": {
   "codemirror_mode": {
    "name": "ipython",
    "version": 3
   },
   "file_extension": ".py",
   "mimetype": "text/x-python",
   "name": "python",
   "nbconvert_exporter": "python",
   "pygments_lexer": "ipython3",
   "version": "3.12.4"
  }
 },
 "nbformat": 4,
 "nbformat_minor": 5
}
