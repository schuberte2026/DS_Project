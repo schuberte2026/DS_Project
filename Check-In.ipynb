{
 "cells": [
  {
   "cell_type": "code",
   "execution_count": 57,
   "id": "8f53025e-2fdb-4ea6-9af1-6f3dd77926be",
   "metadata": {},
   "outputs": [],
   "source": [
    "import pandas as pd\n",
    "import numpy as np\n",
    "from scipy import stats\n",
    "from sklearn.neighbors import KNeighborsRegressor"
   ]
  },
  {
   "cell_type": "code",
   "execution_count": 59,
   "id": "e2a2443f-b199-4daa-a80a-e163cbfd0d18",
   "metadata": {},
   "outputs": [],
   "source": [
    "df = pd.read_csv(\"Fraud Detection Dataset.csv\")"
   ]
  },
  {
   "cell_type": "code",
   "execution_count": 61,
   "id": "3eccee08-6b1b-47b8-83ea-bf70cbb1e130",
   "metadata": {},
   "outputs": [
    {
     "data": {
      "text/html": [
       "<div>\n",
       "<style scoped>\n",
       "    .dataframe tbody tr th:only-of-type {\n",
       "        vertical-align: middle;\n",
       "    }\n",
       "\n",
       "    .dataframe tbody tr th {\n",
       "        vertical-align: top;\n",
       "    }\n",
       "\n",
       "    .dataframe thead th {\n",
       "        text-align: right;\n",
       "    }\n",
       "</style>\n",
       "<table border=\"1\" class=\"dataframe\">\n",
       "  <thead>\n",
       "    <tr style=\"text-align: right;\">\n",
       "      <th></th>\n",
       "      <th>Transaction_ID</th>\n",
       "      <th>User_ID</th>\n",
       "      <th>Transaction_Amount</th>\n",
       "      <th>Transaction_Type</th>\n",
       "      <th>Time_of_Transaction</th>\n",
       "      <th>Device_Used</th>\n",
       "      <th>Location</th>\n",
       "      <th>Previous_Fraudulent_Transactions</th>\n",
       "      <th>Account_Age</th>\n",
       "      <th>Number_of_Transactions_Last_24H</th>\n",
       "      <th>Payment_Method</th>\n",
       "      <th>Fraudulent</th>\n",
       "    </tr>\n",
       "  </thead>\n",
       "  <tbody>\n",
       "    <tr>\n",
       "      <th>0</th>\n",
       "      <td>T1</td>\n",
       "      <td>4174</td>\n",
       "      <td>1292.76</td>\n",
       "      <td>ATM Withdrawal</td>\n",
       "      <td>16.0</td>\n",
       "      <td>Tablet</td>\n",
       "      <td>San Francisco</td>\n",
       "      <td>0</td>\n",
       "      <td>119</td>\n",
       "      <td>13</td>\n",
       "      <td>Debit Card</td>\n",
       "      <td>0</td>\n",
       "    </tr>\n",
       "    <tr>\n",
       "      <th>1</th>\n",
       "      <td>T2</td>\n",
       "      <td>4507</td>\n",
       "      <td>1554.58</td>\n",
       "      <td>ATM Withdrawal</td>\n",
       "      <td>13.0</td>\n",
       "      <td>Mobile</td>\n",
       "      <td>New York</td>\n",
       "      <td>4</td>\n",
       "      <td>79</td>\n",
       "      <td>3</td>\n",
       "      <td>Credit Card</td>\n",
       "      <td>0</td>\n",
       "    </tr>\n",
       "    <tr>\n",
       "      <th>2</th>\n",
       "      <td>T3</td>\n",
       "      <td>1860</td>\n",
       "      <td>2395.02</td>\n",
       "      <td>ATM Withdrawal</td>\n",
       "      <td>NaN</td>\n",
       "      <td>Mobile</td>\n",
       "      <td>NaN</td>\n",
       "      <td>3</td>\n",
       "      <td>115</td>\n",
       "      <td>9</td>\n",
       "      <td>NaN</td>\n",
       "      <td>0</td>\n",
       "    </tr>\n",
       "    <tr>\n",
       "      <th>3</th>\n",
       "      <td>T4</td>\n",
       "      <td>2294</td>\n",
       "      <td>100.10</td>\n",
       "      <td>Bill Payment</td>\n",
       "      <td>15.0</td>\n",
       "      <td>Desktop</td>\n",
       "      <td>Chicago</td>\n",
       "      <td>4</td>\n",
       "      <td>3</td>\n",
       "      <td>4</td>\n",
       "      <td>UPI</td>\n",
       "      <td>0</td>\n",
       "    </tr>\n",
       "    <tr>\n",
       "      <th>4</th>\n",
       "      <td>T5</td>\n",
       "      <td>2130</td>\n",
       "      <td>1490.50</td>\n",
       "      <td>POS Payment</td>\n",
       "      <td>19.0</td>\n",
       "      <td>Mobile</td>\n",
       "      <td>San Francisco</td>\n",
       "      <td>2</td>\n",
       "      <td>57</td>\n",
       "      <td>7</td>\n",
       "      <td>Credit Card</td>\n",
       "      <td>0</td>\n",
       "    </tr>\n",
       "  </tbody>\n",
       "</table>\n",
       "</div>"
      ],
      "text/plain": [
       "  Transaction_ID  User_ID  Transaction_Amount Transaction_Type  \\\n",
       "0             T1     4174             1292.76   ATM Withdrawal   \n",
       "1             T2     4507             1554.58   ATM Withdrawal   \n",
       "2             T3     1860             2395.02   ATM Withdrawal   \n",
       "3             T4     2294              100.10     Bill Payment   \n",
       "4             T5     2130             1490.50      POS Payment   \n",
       "\n",
       "   Time_of_Transaction Device_Used       Location  \\\n",
       "0                 16.0      Tablet  San Francisco   \n",
       "1                 13.0      Mobile       New York   \n",
       "2                  NaN      Mobile            NaN   \n",
       "3                 15.0     Desktop        Chicago   \n",
       "4                 19.0      Mobile  San Francisco   \n",
       "\n",
       "   Previous_Fraudulent_Transactions  Account_Age  \\\n",
       "0                                 0          119   \n",
       "1                                 4           79   \n",
       "2                                 3          115   \n",
       "3                                 4            3   \n",
       "4                                 2           57   \n",
       "\n",
       "   Number_of_Transactions_Last_24H Payment_Method  Fraudulent  \n",
       "0                               13     Debit Card           0  \n",
       "1                                3    Credit Card           0  \n",
       "2                                9            NaN           0  \n",
       "3                                4            UPI           0  \n",
       "4                                7    Credit Card           0  "
      ]
     },
     "execution_count": 61,
     "metadata": {},
     "output_type": "execute_result"
    }
   ],
   "source": [
    "df.head()"
   ]
  },
  {
   "cell_type": "markdown",
   "id": "37722812-05f9-4d9e-9776-8b9e6cf1f0dc",
   "metadata": {},
   "source": [
    "### Hypothesis\n",
    "Null hypotheis: there are no features that distinguish between fraudulent transactions and non-fraudulent transactions<br>\n",
    "Alternate Hypothesis: there is at least one feature that distinguishes between fraudulent transactions and non-fraudulent transactions"
   ]
  },
  {
   "cell_type": "markdown",
   "id": "234ef287-488f-4c02-9b6a-b010aed95437",
   "metadata": {},
   "source": [
    "### Model Selection\n",
    "Classification model - kNN"
   ]
  },
  {
   "cell_type": "code",
   "execution_count": 65,
   "id": "91b91c95-f91e-40ac-a6d1-cd2a49f238e4",
   "metadata": {},
   "outputs": [
    {
     "name": "stdout",
     "output_type": "stream",
     "text": [
      "<class 'pandas.core.frame.DataFrame'>\n",
      "RangeIndex: 51000 entries, 0 to 50999\n",
      "Data columns (total 12 columns):\n",
      " #   Column                            Non-Null Count  Dtype  \n",
      "---  ------                            --------------  -----  \n",
      " 0   Transaction_ID                    51000 non-null  object \n",
      " 1   User_ID                           51000 non-null  int64  \n",
      " 2   Transaction_Amount                48480 non-null  float64\n",
      " 3   Transaction_Type                  51000 non-null  object \n",
      " 4   Time_of_Transaction               48448 non-null  float64\n",
      " 5   Device_Used                       48527 non-null  object \n",
      " 6   Location                          48453 non-null  object \n",
      " 7   Previous_Fraudulent_Transactions  51000 non-null  int64  \n",
      " 8   Account_Age                       51000 non-null  int64  \n",
      " 9   Number_of_Transactions_Last_24H   51000 non-null  int64  \n",
      " 10  Payment_Method                    48531 non-null  object \n",
      " 11  Fraudulent                        51000 non-null  int64  \n",
      "dtypes: float64(2), int64(5), object(5)\n",
      "memory usage: 4.7+ MB\n"
     ]
    }
   ],
   "source": [
    "df.info()"
   ]
  },
  {
   "cell_type": "markdown",
   "id": "80bbf376-af0a-4699-ba07-538704f68100",
   "metadata": {},
   "source": [
    "### What Each Column Represents<br>\n",
    "Transaction_ID - arbitrary unique ID given to each transaction<br>\n",
    "User_ID - The unique identifier for each user<br>\n",
    "Transaction Amount - amount of money transacted<br>\n",
    "Transaction Type - ATM withdrawal, Bill Payment, POS payment, bank transfer, online purchase<br>\n",
    "Time of Transaction - Military time for the time the transaction occured, 0 through 23<br>\n",
    "Device Used - Tablet, mobile, desktop, unknown device<br>\n",
    "Location - San Francisco, New York, Chicago, Boston, Houston, Miami, Los Angeles, Seattle<br>\n",
    "Previous Fraudulent Transactions - How many previous fraudelent transactions does this user have, 0 through 4<br>\n",
    "Account Age - How long the account has been active in possibly months, 0 through 119<br>\n",
    "Number of Transactions last 24H - The number of transactions in the last 24 hours for this user, 1 through 14<br>\n",
    "Payment Method - Debit card, credit card, UPI, net banking, invalid method<br>\n",
    "Fraudulent - boolean representing whether the transaction was fraudulent.\n"
   ]
  },
  {
   "cell_type": "markdown",
   "id": "7036e430-825b-48dc-8658-d68174826149",
   "metadata": {},
   "source": [
    "### Data cleaning"
   ]
  },
  {
   "cell_type": "code",
   "execution_count": 69,
   "id": "899fb143-8b0b-46bb-95c0-6e46659a78a0",
   "metadata": {},
   "outputs": [],
   "source": [
    "df[\"Transaction_Amount_fill_mean\"] = df[\"Transaction_Amount\"]\n",
    "df[\"Transaction_Amount_fill_median\"] = df[\"Transaction_Amount\"]\n",
    "df[\"Transaction_Amount_fill_mode\"] = df[\"Transaction_Amount\"]\n",
    "\n",
    "values = {\"Transaction_Amount_fill_mean\": df[\"Transaction_Amount\"].mean(), \"Transaction_Amount_fill_median\": df[\"Transaction_Amount\"].median(), \n",
    "         \"Transaction_Amount_fill_mode\": stats.mode(df[\"Transaction_Amount\"], nan_policy=\"omit\").mode}\n",
    "df.fillna(value = values, inplace = True)"
   ]
  },
  {
   "cell_type": "code",
   "execution_count": null,
   "id": "579540cd-392a-415c-acca-66ca9240e5df",
   "metadata": {},
   "outputs": [],
   "source": [
    "df[\"Transaction_Amount_fill_KNN\"] = df[\"Transaction_Amount\"]\n",
    "df_drop_na = titanic_data\n",
    "df_drop_na = df_drop_na.dropna(subset = \"Transaction_Amount\")\n",
    "\n",
    "#x_train = df_drop_na[[\"SibSp\", \"Parch\", \"Fare\"]]\n",
    "y_train = df_drop_na[\"Transaction_Amount\"]\n",
    "#x_test = df_drop_na[[\"SibSp\", \"Parch\", \"Fare\"]]\n",
    "model = KNeighborsRegressor(n_neighbors=5)\n",
    "model.fit(x_train, y_train)\n",
    "\n",
    "answers = model.predict(x_test)\n",
    "index = 0\n",
    "for amount in df[\"Age_fill_knn\"]:\n",
    "    if(np.isnan(amount)):\n",
    "        df.at[index, \"Age_fill_knn\"] = answers[index]\n",
    "    index += 1"
   ]
  },
  {
   "cell_type": "code",
   "execution_count": 73,
   "id": "9e54024e-b0d7-463f-8010-3cf723f894e0",
   "metadata": {},
   "outputs": [],
   "source": [
    "#Transaction_Amount, Time_of_Transaction, Device_Used, Location, Payment_Method\n",
    "df.dropna(axis=0, subset=[\"Device_Used\", \"Location\", \"Payment_Method\"], inplace = True)"
   ]
  },
  {
   "cell_type": "code",
   "execution_count": null,
   "id": "d38117c9-a861-492e-b305-c655f2a68d71",
   "metadata": {},
   "outputs": [],
   "source": []
  }
 ],
 "metadata": {
  "kernelspec": {
   "display_name": "Python 3 (ipykernel)",
   "language": "python",
   "name": "python3"
  },
  "language_info": {
   "codemirror_mode": {
    "name": "ipython",
    "version": 3
   },
   "file_extension": ".py",
   "mimetype": "text/x-python",
   "name": "python",
   "nbconvert_exporter": "python",
   "pygments_lexer": "ipython3",
   "version": "3.12.4"
  }
 },
 "nbformat": 4,
 "nbformat_minor": 5
}
