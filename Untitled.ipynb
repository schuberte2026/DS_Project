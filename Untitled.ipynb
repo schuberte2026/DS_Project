{
 "cells": [
  {
   "cell_type": "code",
   "execution_count": 1,
   "id": "8f53025e-2fdb-4ea6-9af1-6f3dd77926be",
   "metadata": {},
   "outputs": [
    {
     "name": "stdout",
     "output_type": "stream",
     "text": [
      "whatever\n"
     ]
    }
   ],
   "source": [
    "print(\"whatever\")"
   ]
  },
  {
   "cell_type": "code",
   "execution_count": null,
   "id": "142b89fa-7c07-4c43-b45d-f33d2d2f0308",
   "metadata": {},
   "outputs": [],
   "source": []
  }
 ],
 "metadata": {
  "kernelspec": {
   "display_name": "Python 3 (ipykernel)",
   "language": "python",
   "name": "python3"
  },
  "language_info": {
   "codemirror_mode": {
    "name": "ipython",
    "version": 3
   },
   "file_extension": ".py",
   "mimetype": "text/x-python",
   "name": "python",
   "nbconvert_exporter": "python",
   "pygments_lexer": "ipython3",
   "version": "3.12.4"
  }
 },
 "nbformat": 4,
 "nbformat_minor": 5
}
